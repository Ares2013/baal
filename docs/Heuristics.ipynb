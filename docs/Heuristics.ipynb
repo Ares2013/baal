{
 "cells": [
  {
   "cell_type": "markdown",
   "metadata": {},
   "source": [
    "## Calculating uncertainty for datapoints\n",
    "\n",
    "There are different proposed methods in the literature on how to select the next datapoint(s) to be labelled. As per for `baal`, the implemented heuristics could be categorized as followed: \n",
    "- `information gain of a datapoint given the prediction distribution`\n",
    "- `variance in prediction distibution`\n",
    "\n",
    "As for `information gain` calculation, we have two methods implemented `entropy` and `BALD`. Through our experiments and based on literature `BALD` is a lot more successful comparing to `entropy` for choosing the most informative datapoints for the model to be labelled next. Since the information that a single data point is adding to the model is always compared to the expected information gain given the batch being all labelled. \n",
    "For the purpose of this tutorial, we will demonstrate how one could use `baal.Heuristics` to choose the next data points to be labelled. For the heuristic methodology, we would choose `BALD` knowing the using any other heuristic in the API is as easy and straight forward."
   ]
  },
  {
   "cell_type": "code",
   "execution_count": 1,
   "metadata": {},
   "outputs": [],
   "source": [
    "import numpy as np\n",
    "from sklearn.neighbors import KernelDensity\n",
    "from scipy.special import softmax\n",
    "\n",
    "n_iterations = 200\n",
    "n_cls = 3\n",
    "batch_size = 10\n",
    "mu = 0\n",
    "std = 1\n",
    "\n",
    "np.random.seed(350)\n",
    "distributions = np.zeros([batch_size, n_cls, n_iterations])\n",
    "for n in range(n_iterations):\n",
    "    for i in range(batch_size):\n",
    "        for c in range(n_cls):\n",
    "            distributions[i, c, n] = np.random.normal(mu, std, 1)\n",
    "        \n",
    "distributions = softmax(distributions, axis=0)\n"
   ]
  },
  {
   "cell_type": "code",
   "execution_count": 2,
   "metadata": {},
   "outputs": [
    {
     "data": {
      "text/plain": [
       "(10, 3, 200)"
      ]
     },
     "execution_count": 2,
     "metadata": {},
     "output_type": "execute_result"
    }
   ],
   "source": [
    "# distribution shape (batch_size=4, n_cls=3, n_iterations=2)\n",
    "distributions.shape"
   ]
  },
  {
   "cell_type": "code",
   "execution_count": 3,
   "metadata": {},
   "outputs": [
    {
     "data": {
      "image/png": "[encoded data removed]",
      "text/plain": [
       "<Figure size 432x288 with 1 Axes>"
      ]
     },
     "metadata": {
      "needs_background": "light"
     },
     "output_type": "display_data"
    }
   ],
   "source": [
    "%matplotlib inline\n",
    "import matplotlib.pyplot as plt\n",
    "fig, ax = plt.subplots()\n",
    "ax.hist(distributions[:, 0, 2], bins=50);"
   ]
  },
  {
   "cell_type": "markdown",
   "metadata": {},
   "source": [
    "The sum probabilities for a batch in an iteration is equal to `1`."
   ]
  },
  {
   "cell_type": "code",
   "execution_count": 4,
   "metadata": {},
   "outputs": [
    {
     "data": {
      "text/plain": [
       "array([0.20099541, 0.06490484, 0.29254148, 0.03144375, 0.11772944,\n",
       "       0.14780936, 0.00674131, 0.01192585, 0.04828815, 0.07762042])"
      ]
     },
     "execution_count": 4,
     "metadata": {},
     "output_type": "execute_result"
    }
   ],
   "source": [
    "distributions[:, 0, 0]"
   ]
  },
  {
   "cell_type": "code",
   "execution_count": 5,
   "metadata": {},
   "outputs": [
    {
     "data": {
      "text/plain": [
       "1.0"
      ]
     },
     "execution_count": 5,
     "metadata": {},
     "output_type": "execute_result"
    }
   ],
   "source": [
    "distributions[:, 0, 0].sum()"
   ]
  },
  {
   "cell_type": "markdown",
   "metadata": {},
   "source": [
    "Now lets see how `BALD` defines the next data point in a batch of `4` to be labelled."
   ]
  },
  {
   "cell_type": "code",
   "execution_count": 6,
   "metadata": {},
   "outputs": [
    {
     "name": "stdout",
     "output_type": "stream",
     "text": [
      "[7 8 2 3 6 5 0 1 9 4]\n"
     ]
    }
   ],
   "source": [
    "from baal.active.heuristics import BALD\n",
    "\n",
    "heuristic = BALD(shuffle_prop=0.0, threshold=None, reduction='none')\n",
    "ranked_indexes = heuristic(distributions)\n",
    "print(ranked_indexes)"
   ]
  },
  {
   "cell_type": "markdown",
   "metadata": {},
   "source": [
    "The above is the resulted ordered indexes for data points to be labelled. The first index in the list is the most informative datapoint. To justify this we will need to plot the distribution over different iterations and see if we find something interesting."
   ]
  },
  {
   "cell_type": "code",
   "execution_count": 7,
   "metadata": {},
   "outputs": [],
   "source": [
    "from scipy.special import xlogy\n",
    "mu_ = - np.mean(np.sum(xlogy(distributions, distributions), axis=1), axis=-1)"
   ]
  },
  {
   "cell_type": "code",
   "execution_count": 8,
   "metadata": {},
   "outputs": [
    {
     "data": {
      "text/plain": [
       "(10,)"
      ]
     },
     "execution_count": 8,
     "metadata": {},
     "output_type": "execute_result"
    }
   ],
   "source": [
    "mu_.shape"
   ]
  },
  {
   "cell_type": "markdown",
   "metadata": {},
   "source": [
    "Lets see distribution of predictions for the 7th, 6rd and 4th index points."
   ]
  },
  {
   "cell_type": "code",
   "execution_count": 16,
   "metadata": {},
   "outputs": [
    {
     "name": "stdout",
     "output_type": "stream",
     "text": [
      "expected prediction value for data index 7 : 0.5752225707930843\n"
     ]
    },
    {
     "data": {
      "image/png": "[encoded data removed]",
      "text/plain": [
       "<Figure size 432x288 with 1 Axes>"
      ]
     },
     "metadata": {
      "needs_background": "light"
     },
     "output_type": "display_data"
    }
   ],
   "source": [
    "fig, ax = plt.subplots()\n",
    "index = 7\n",
    "print(\"expected prediction value for data index {} : {}\".format(index, mu_[index]))\n",
    "predictions = np.reshape(distributions[index, :, :], [n_cls * n_iterations])\n",
    "ax.hist(predictions, bins=50);"
   ]
  },
  {
   "cell_type": "code",
   "execution_count": 17,
   "metadata": {},
   "outputs": [
    {
     "name": "stdout",
     "output_type": "stream",
     "text": [
      "expected prediction value for data index 6 : 0.5993807821159103\n"
     ]
    },
    {
     "data": {
      "image/png": "[encoded data removed]",
      "text/plain": [
       "<Figure size 432x288 with 1 Axes>"
      ]
     },
     "metadata": {
      "needs_background": "light"
     },
     "output_type": "display_data"
    }
   ],
   "source": [
    "fig, ax = plt.subplots()\n",
    "index = 6\n",
    "print(\"expected prediction value for data index {} : {}\".format(index, mu_[index]))\n",
    "predictions = np.reshape(distributions[index, :, :], [n_cls * n_iterations])\n",
    "ax.hist(predictions, bins=50);"
   ]
  },
  {
   "cell_type": "code",
   "execution_count": 10,
   "metadata": {},
   "outputs": [
    {
     "name": "stdout",
     "output_type": "stream",
     "text": [
      "expected prediction value for data index 6 : 0.5993807821159103\n"
     ]
    },
    {
     "data": {
      "image/png": "[encoded data removed]",
      "text/plain": [
       "<Figure size 432x288 with 1 Axes>"
      ]
     },
     "metadata": {
      "needs_background": "light"
     },
     "output_type": "display_data"
    }
   ],
   "source": [
    "fig, ax = plt.subplots()\n",
    "index = 6\n",
    "print(\"expected prediction value for data index {} : {}\".format(index, mu_[index]))\n",
    "predictions = [np.max(distributions[index, :, iteration]) for iteration in range(n_iterations)]\n",
    "ax.hist(predictions, bins=50);"
   ]
  },
  {
   "cell_type": "code",
   "execution_count": 11,
   "metadata": {},
   "outputs": [
    {
     "name": "stdout",
     "output_type": "stream",
     "text": [
      "expected prediction value for data index 4 : 0.5445648131961467\n"
     ]
    },
    {
     "data": {
      "image/png": "[encoded data removed]",
      "text/plain": [
       "<Figure size 432x288 with 1 Axes>"
      ]
     },
     "metadata": {
      "needs_background": "light"
     },
     "output_type": "display_data"
    }
   ],
   "source": [
    "fig, ax = plt.subplots()\n",
    "index = 4\n",
    "print(\"expected prediction value for data index {} : {}\".format(index, mu_[index]))\n",
    "predictions = [np.max(distributions[index, :, iteration]) for iteration in range(n_iterations)]\n",
    "ax.hist(predictions, bins=50);"
   ]
  },
  {
   "cell_type": "markdown",
   "metadata": {},
   "source": [
    "As you can see, the 9th datapoint as the most uncertainty over its predictions in different iterations, given the expected value of the iterations."
   ]
  }
 ],
 "metadata": {
  "kernelspec": {
   "display_name": "Python 3",
   "language": "python",
   "name": "python3"
  },
  "language_info": {
   "codemirror_mode": {
    "name": "ipython",
    "version": 3
   },
   "file_extension": ".py",
   "mimetype": "text/x-python",
   "name": "python",
   "nbconvert_exporter": "python",
   "pygments_lexer": "ipython3",
   "version": "3.6.9"
  }
 },
 "nbformat": 4,
 "nbformat_minor": 2
}
